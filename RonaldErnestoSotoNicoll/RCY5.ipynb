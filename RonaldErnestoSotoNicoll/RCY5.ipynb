{
 "cells": [
  {
   "cell_type": "code",
   "execution_count": 1,
   "id": "17d0dad7",
   "metadata": {},
   "outputs": [],
   "source": [
    "#Carga de librerias\n",
    "from pyspark.sql.functions import from_json, col, to_timestamp, window, expr, sum,count\n",
    "from pyspark.sql.types import StructType, StructField, StringType, IntegerType"
   ]
  },
  {
   "cell_type": "code",
   "execution_count": 2,
   "id": "dd8a982e",
   "metadata": {},
   "outputs": [],
   "source": [
    "#creación de session spark\n",
    "spark = SparkSession \\\n",
    "        .builder \\\n",
    "        .appName(\"Youtube Video Reaction RT\") \\\n",
    "        .master(\"local[3]\") \\\n",
    "        .config(\"spark.streaming.stopGracefullyOnShutdown\", \"true\") \\\n",
    "        .config(\"spark.sql.shuffle.partitions\", 2) \\\n",
    "        .config(\"spark.sql.streaming.statefulOperator.checkCorrectness.enabled\", \"false\")\\\n",
    "        .getOrCreate()"
   ]
  },
  {
   "cell_type": "code",
   "execution_count": 3,
   "id": "26b583ab",
   "metadata": {},
   "outputs": [],
   "source": [
    "#creamos el esquema para leer la data en formato JSON que recibimos de KAFKA\n",
    "reactions_schema = StructType([\n",
    "        StructField(\"CreatedTime\", StringType()),\n",
    "        StructField(\"Type\", StringType()),\n",
    "        StructField(\"Amount\", IntegerType()),\n",
    "        StructField(\"VideoName\", StringType()),\n",
    "        StructField(\"VideoCode\", IntegerType())\n",
    "    ])"
   ]
  },
  {
   "cell_type": "code",
   "execution_count": 4,
   "id": "ff52ceff",
   "metadata": {},
   "outputs": [],
   "source": [
    "#creamos el esquema para leer la data en formato JSON que recibimos de KAFKA\n",
    "comments_schema = StructType([\n",
    "        StructField(\"CreatedTime\", StringType()),\n",
    "        StructField(\"VideoName\", StringType()),\n",
    "        StructField(\"VideoCode\", IntegerType()),\n",
    "        StructField(\"Comment\", StringType()),\n",
    "    ])"
   ]
  },
  {
   "cell_type": "code",
   "execution_count": 5,
   "id": "d999ad33",
   "metadata": {},
   "outputs": [],
   "source": [
    "#Creamos el objeto de lectura del KAFKA\n",
    "kafka_reactions_df = spark.readStream \\\n",
    "        .format(\"kafka\") \\\n",
    "        .option(\"kafka.bootstrap.servers\", \"localhost:9092\") \\\n",
    "        .option(\"subscribe\", \"reactions\") \\\n",
    "        .option(\"startingOffsets\", \"earliest\") \\\n",
    "        .load()"
   ]
  },
  {
   "cell_type": "code",
   "execution_count": 6,
   "id": "397a2d69",
   "metadata": {},
   "outputs": [],
   "source": [
    "#Transformamos el campo 'value' a una estructura del tipo JSON usando el esquema definido previamente\n",
    "value_reactions_df = kafka_reactions_df.select(from_json(col(\"value\").cast(\"string\"), reactions_schema).alias(\"value\"))"
   ]
  },
  {
   "cell_type": "code",
   "execution_count": 7,
   "id": "5e7f22de",
   "metadata": {},
   "outputs": [],
   "source": [
    "#Realizamos calculos y casteamos el campo 'CreatedTime' a un tipo de dato TimeStamp\n",
    "reactions_df = value_reactions_df.select(\"value.*\") \\\n",
    "        .withColumn(\"ReactionTime\", to_timestamp(col(\"CreatedTime\"), \"yyyy-MM-dd HH:mm:ss\")) \\\n",
    "        .withWatermark(\"ReactionTime\", \"2 hour\") \\\n",
    "        .withColumn(\"Like\", expr(\"case when Type == 'LIKE' then Amount else 0 end\")) \\\n",
    "        .withColumn(\"Dislike\", expr(\"case when Type == 'DISLIKE' then Amount else 0 end\")) \\\n",
    "        .drop(\"CreatedTime\",\"Type\",\"Amount\") \n",
    "     "
   ]
  },
  {
   "cell_type": "code",
   "execution_count": 8,
   "id": "841dfed9",
   "metadata": {},
   "outputs": [
    {
     "name": "stdout",
     "output_type": "stream",
     "text": [
      "root\n",
      " |-- VideoName: string (nullable = true)\n",
      " |-- VideoCode: integer (nullable = true)\n",
      " |-- ReactionTime: timestamp (nullable = true)\n",
      " |-- Like: integer (nullable = true)\n",
      " |-- Dislike: integer (nullable = true)\n",
      "\n"
     ]
    }
   ],
   "source": [
    "reactions_df.printSchema()"
   ]
  },
  {
   "cell_type": "code",
   "execution_count": 9,
   "id": "6b03e386",
   "metadata": {},
   "outputs": [],
   "source": [
    "#Se realiza una agregación considerando una ventana de 5 minutos a partir del campo 'CreatedTime'\n",
    "#windowr_agg_df = reactions_df \\\n",
    "  #   .groupBy(col(\"VideoCode\"),window(col(\"ReactionTime\"), \"5 minute\")) \\\n",
    "    \n",
    "      #  .agg(sum(\"Like\").alias(\"TotalLikes\"),\n",
    "      #  sum(\"Dislike\").alias(\"TotalDislikes\"))"
   ]
  },
  {
   "cell_type": "code",
   "execution_count": 10,
   "id": "60fe64de",
   "metadata": {},
   "outputs": [],
   "source": [
    "#Se realiza una agregación considerando una ventana de 5 minutos a partir del campo 'CreatedTime'\n",
    "reactions_window_df = reactions_df \\\n",
    "     .withColumn(\"rwindow\",window(col(\"ReactionTime\"), \"10 minute\")) "
   ]
  },
  {
   "cell_type": "code",
   "execution_count": 11,
   "id": "54ce9bd3",
   "metadata": {},
   "outputs": [
    {
     "name": "stdout",
     "output_type": "stream",
     "text": [
      "root\n",
      " |-- VideoName: string (nullable = true)\n",
      " |-- VideoCode: integer (nullable = true)\n",
      " |-- ReactionTime: timestamp (nullable = true)\n",
      " |-- Like: integer (nullable = true)\n",
      " |-- Dislike: integer (nullable = true)\n",
      " |-- rwindow: struct (nullable = false)\n",
      " |    |-- start: timestamp (nullable = true)\n",
      " |    |-- end: timestamp (nullable = true)\n",
      "\n"
     ]
    }
   ],
   "source": [
    "reactions_window_df.printSchema()"
   ]
  },
  {
   "cell_type": "code",
   "execution_count": 12,
   "id": "f6cec761",
   "metadata": {},
   "outputs": [],
   "source": [
    "#Creamos el objeto de lectura del KAFKA\n",
    "kafka_comments_df = spark.readStream \\\n",
    "        .format(\"kafka\") \\\n",
    "        .option(\"kafka.bootstrap.servers\", \"localhost:9092\") \\\n",
    "        .option(\"subscribe\", \"comments\") \\\n",
    "        .option(\"startingOffsets\", \"earliest\") \\\n",
    "        .load()"
   ]
  },
  {
   "cell_type": "code",
   "execution_count": 13,
   "id": "bde0752f",
   "metadata": {},
   "outputs": [],
   "source": [
    "#Transformamos el campo 'value' a una estructura del tipo JSON usando el esquema definido previamente\n",
    "value_comments_df = kafka_comments_df.select(from_json(col(\"value\").cast(\"string\"), comments_schema).alias(\"value\"))"
   ]
  },
  {
   "cell_type": "code",
   "execution_count": 14,
   "id": "2e67aa6d",
   "metadata": {},
   "outputs": [],
   "source": [
    "#Realizamos calculos y casteamos el campo 'CreatedTime' a un tipo de dato TimeStamp\n",
    "comments_df = value_comments_df.select(\"value.*\") \\\n",
    "        .withColumn(\"CommentTime\", to_timestamp(col(\"CreatedTime\"), \"yyyy-MM-dd HH:mm:ss\")) \\\n",
    "        .withWatermark(\"CommentTime\", \"2 hour\") \\\n",
    "        .drop(\"CreatedTime\",\"VideoName\")\n",
    "     \n",
    "        "
   ]
  },
  {
   "cell_type": "code",
   "execution_count": 15,
   "id": "56953123",
   "metadata": {},
   "outputs": [],
   "source": [
    "comments_df=comments_df.withColumnRenamed(\"VideoCode\", \"VCC\")"
   ]
  },
  {
   "cell_type": "code",
   "execution_count": 16,
   "id": "46634f4b",
   "metadata": {},
   "outputs": [],
   "source": [
    "#Se realiza una agregación considerando una ventana de 5 minutos a partir del campo 'CreatedTime'\n",
    "comments_window_df = comments_df \\\n",
    "    .withColumn(\"cwindow\",window(col(\"CommentTime\"), \"10 minute\"))\n",
    "     "
   ]
  },
  {
   "cell_type": "code",
   "execution_count": 17,
   "id": "b1fa0230",
   "metadata": {},
   "outputs": [
    {
     "name": "stdout",
     "output_type": "stream",
     "text": [
      "root\n",
      " |-- VCC: integer (nullable = true)\n",
      " |-- Comment: string (nullable = true)\n",
      " |-- CommentTime: timestamp (nullable = true)\n",
      " |-- cwindow: struct (nullable = false)\n",
      " |    |-- start: timestamp (nullable = true)\n",
      " |    |-- end: timestamp (nullable = true)\n",
      "\n"
     ]
    }
   ],
   "source": [
    "comments_window_df.printSchema()"
   ]
  },
  {
   "cell_type": "code",
   "execution_count": 18,
   "id": "a08b8b1d",
   "metadata": {},
   "outputs": [],
   "source": [
    "join_expr = \"VideoCode == VCC\" + \\\n",
    "                  \" AND rwindow==cwindow\"\n",
    "join_type = \"inner\""
   ]
  },
  {
   "cell_type": "code",
   "execution_count": 19,
   "id": "b87f0bf8",
   "metadata": {},
   "outputs": [],
   "source": [
    "joined_df = reactions_window_df.join(comments_window_df, expr(join_expr), join_type)"
   ]
  },
  {
   "cell_type": "code",
   "execution_count": 20,
   "id": "849e945e",
   "metadata": {},
   "outputs": [
    {
     "name": "stdout",
     "output_type": "stream",
     "text": [
      "root\n",
      " |-- VideoName: string (nullable = true)\n",
      " |-- VideoCode: integer (nullable = true)\n",
      " |-- ReactionTime: timestamp (nullable = true)\n",
      " |-- Like: integer (nullable = true)\n",
      " |-- Dislike: integer (nullable = true)\n",
      " |-- rwindow: struct (nullable = false)\n",
      " |    |-- start: timestamp (nullable = true)\n",
      " |    |-- end: timestamp (nullable = true)\n",
      " |-- VCC: integer (nullable = true)\n",
      " |-- Comment: string (nullable = true)\n",
      " |-- CommentTime: timestamp (nullable = true)\n",
      " |-- cwindow: struct (nullable = false)\n",
      " |    |-- start: timestamp (nullable = true)\n",
      " |    |-- end: timestamp (nullable = true)\n",
      "\n"
     ]
    }
   ],
   "source": [
    "joined_df.printSchema()"
   ]
  },
  {
   "cell_type": "code",
   "execution_count": 21,
   "id": "048e3c81",
   "metadata": {},
   "outputs": [],
   "source": [
    "#Se realiza una agregación considerando una ventana de 15 minutos a partir del campo 'CreatedTime'\n",
    "#Se declara como limite para la expiracion (Watermark) de los datos el rango de 30 minutos a partir del maximo 'CreatedTime'\n",
    "#window_agg_df = trade_df \\\n",
    "  #      .withWatermark(\"CreatedTime\", \"30 minute\") \\\n",
    "  #      .groupBy(window(col(\"CreatedTime\"), \"15 minute\")) \\\n",
    "  #      .agg(sum(\"Buy\").alias(\"TotalBuy\"),\n",
    "    #         sum(\"Sell\").alias(\"TotalSell\"))"
   ]
  },
  {
   "cell_type": "code",
   "execution_count": 22,
   "id": "481d785a",
   "metadata": {},
   "outputs": [],
   "source": [
    "#Se selecciona los resultados que se mostraran\n",
    "#output_reactions_df = windowr_agg_df.select(\"VideoCode\",\"window.start\", \"window.end\", \"TotalLikes\", \"TotalDislikes\")\n",
    "#output_df = joined_df \\\n",
    " #           .groupBy(\"rwindow\") \\\n",
    "  #          .agg(sum(\"Like\").alias(\"TotalLikes\"),\n",
    "   #            count(\"Comment\").alias(\"TotalComments\")) \\\n",
    "            #.select(\"VideoCode\",\"rwindow.start\",\"rwindow.end\",\"TotalLikes\",\"TotalDislikes\",\"TotalComments\")\n",
    "output_df=joined_df\n"
   ]
  },
  {
   "cell_type": "code",
   "execution_count": 23,
   "id": "306dd2e3",
   "metadata": {},
   "outputs": [
    {
     "name": "stdout",
     "output_type": "stream",
     "text": [
      "root\n",
      " |-- VideoName: string (nullable = true)\n",
      " |-- VideoCode: integer (nullable = true)\n",
      " |-- ReactionTime: timestamp (nullable = true)\n",
      " |-- Like: integer (nullable = true)\n",
      " |-- Dislike: integer (nullable = true)\n",
      " |-- rwindow: struct (nullable = false)\n",
      " |    |-- start: timestamp (nullable = true)\n",
      " |    |-- end: timestamp (nullable = true)\n",
      " |-- VCC: integer (nullable = true)\n",
      " |-- Comment: string (nullable = true)\n",
      " |-- CommentTime: timestamp (nullable = true)\n",
      " |-- cwindow: struct (nullable = false)\n",
      " |    |-- start: timestamp (nullable = true)\n",
      " |    |-- end: timestamp (nullable = true)\n",
      "\n"
     ]
    }
   ],
   "source": [
    "output_df.printSchema()\n"
   ]
  },
  {
   "cell_type": "code",
   "execution_count": 24,
   "id": "9ba5c3db",
   "metadata": {},
   "outputs": [],
   "source": [
    "#Se imprime los resultados en la consola\n",
    "window_query = output_df.writeStream \\\n",
    "        .format(\"console\") \\\n",
    "        .outputMode(\"append\") \\\n",
    "        .option(\"checkpointLocation\", \"./checkpoint/youtube-project\") \\\n",
    "        .trigger(processingTime=\"30 second\") \\\n",
    "        .start()"
   ]
  },
  {
   "cell_type": "code",
   "execution_count": null,
   "id": "c02ab8c7",
   "metadata": {},
   "outputs": [],
   "source": [
    "window_query.awaitTermination()"
   ]
  },
  {
   "cell_type": "code",
   "execution_count": null,
   "id": "a508cba3",
   "metadata": {},
   "outputs": [],
   "source": []
  }
 ],
 "metadata": {
  "kernelspec": {
   "display_name": "Python 3 (ipykernel)",
   "language": "python",
   "name": "python3"
  },
  "language_info": {
   "codemirror_mode": {
    "name": "ipython",
    "version": 3
   },
   "file_extension": ".py",
   "mimetype": "text/x-python",
   "name": "python",
   "nbconvert_exporter": "python",
   "pygments_lexer": "ipython3",
   "version": "3.10.8"
  }
 },
 "nbformat": 4,
 "nbformat_minor": 5
}
