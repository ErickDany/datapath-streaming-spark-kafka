{
 "cells": [
  {
   "cell_type": "code",
   "execution_count": 1,
   "id": "a27df211",
   "metadata": {
    "id": "a27df211"
   },
   "outputs": [],
   "source": [
    "from pyspark.sql.functions import expr, col, from_json\n",
    "from pyspark.sql.types import StructType, StructField, StringType, LongType, DoubleType, IntegerType, ArrayType\n",
    "from pyspark.sql.functions import *"
   ]
  },
  {
   "cell_type": "code",
   "execution_count": 2,
   "id": "eb5bf03b",
   "metadata": {
    "id": "eb5bf03b"
   },
   "outputs": [],
   "source": [
    "spark = SparkSession \\\n",
    "        .builder \\\n",
    "        .appName(\"File Streaming Demo\") \\\n",
    "        .master(\"local[3]\") \\\n",
    "        .config(\"spark.streaming.stopGracefullyOnShutdown\", \"true\") \\\n",
    "        .getOrCreate()"
   ]
  },
  {
   "cell_type": "code",
   "execution_count": 3,
   "id": "c923ee15",
   "metadata": {
    "id": "c923ee15"
   },
   "outputs": [],
   "source": [
    "schema = StructType([\n",
    "        StructField(\"matchday\", StringType()),\n",
    "        StructField(\"minute\", LongType()),\n",
    "        StructField(\"teamId_1\", StringType()),\n",
    "        StructField(\"teamId_2\", StringType()),\n",
    "        StructField(\"goal_1\", IntegerType()),\n",
    "        StructField(\"goal_2\", IntegerType()),\n",
    "        StructField(\"poss_1\", IntegerType()),\n",
    "        StructField(\"poss_2\", IntegerType()),\n",
    "        StructField(\"passes_attp_1\", IntegerType()),\n",
    "        StructField(\"pass_comp_1\", DoubleType()),\n",
    "        StructField(\"shots_attp_1\", IntegerType()),\n",
    "        StructField(\"shots_trg_1\", IntegerType()),\n",
    "        StructField(\"passes_attp_2\", IntegerType()),\n",
    "        StructField(\"pass_comp_2\", DoubleType()),\n",
    "        StructField(\"shots_attp_2\", IntegerType()),\n",
    "        StructField(\"shots_trg_2\", IntegerType()),\n",
    "        StructField(\"date\", StringType()),\n",
    "        StructField(\"timestamp\", StringType()),\n",
    "    ])"
   ]
  },
  {
   "cell_type": "code",
   "execution_count": 4,
   "id": "2ce38a0b",
   "metadata": {
    "id": "2ce38a0b"
   },
   "outputs": [],
   "source": [
    "kafka_df = spark.readStream \\\n",
    "        .format(\"kafka\") \\\n",
    "        .option(\"kafka.bootstrap.servers\", \"localhost:9092\") \\\n",
    "        .option(\"subscribe\", \"matchesF\") \\\n",
    "        .option(\"startingOffsets\", \"earliest\") \\\n",
    "        .load()"
   ]
  },
  {
   "cell_type": "code",
   "execution_count": 5,
   "id": "bb5e2ad2",
   "metadata": {
    "id": "bb5e2ad2",
    "outputId": "f87f1c21-6a18-422c-ac73-23504916d7ef"
   },
   "outputs": [
    {
     "name": "stdout",
     "output_type": "stream",
     "text": [
      "root\n",
      " |-- key: binary (nullable = true)\n",
      " |-- value: binary (nullable = true)\n",
      " |-- topic: string (nullable = true)\n",
      " |-- partition: integer (nullable = true)\n",
      " |-- offset: long (nullable = true)\n",
      " |-- timestamp: timestamp (nullable = true)\n",
      " |-- timestampType: integer (nullable = true)\n",
      "\n"
     ]
    }
   ],
   "source": [
    "kafka_df.printSchema()"
   ]
  },
  {
   "cell_type": "code",
   "execution_count": 6,
   "id": "dd7abe27",
   "metadata": {
    "id": "dd7abe27"
   },
   "outputs": [],
   "source": [
    "value_df = kafka_df.select(from_json(col(\"value\").cast(\"string\"), schema).alias(\"value\")) "
   ]
  },
  {
   "cell_type": "code",
   "execution_count": 7,
   "id": "8ad8bc69",
   "metadata": {
    "id": "8ad8bc69",
    "outputId": "c7f286dd-8d3c-4df2-ce86-923cc6f54076"
   },
   "outputs": [
    {
     "name": "stdout",
     "output_type": "stream",
     "text": [
      "root\n",
      " |-- value: struct (nullable = true)\n",
      " |    |-- matchday: string (nullable = true)\n",
      " |    |-- minute: long (nullable = true)\n",
      " |    |-- teamId_1: string (nullable = true)\n",
      " |    |-- teamId_2: string (nullable = true)\n",
      " |    |-- goal_1: integer (nullable = true)\n",
      " |    |-- goal_2: integer (nullable = true)\n",
      " |    |-- poss_1: integer (nullable = true)\n",
      " |    |-- poss_2: integer (nullable = true)\n",
      " |    |-- passes_attp_1: integer (nullable = true)\n",
      " |    |-- pass_comp_1: double (nullable = true)\n",
      " |    |-- shots_attp_1: integer (nullable = true)\n",
      " |    |-- shots_trg_1: integer (nullable = true)\n",
      " |    |-- passes_attp_2: integer (nullable = true)\n",
      " |    |-- pass_comp_2: double (nullable = true)\n",
      " |    |-- shots_attp_2: integer (nullable = true)\n",
      " |    |-- shots_trg_2: integer (nullable = true)\n",
      " |    |-- date: string (nullable = true)\n",
      " |    |-- timestamp: string (nullable = true)\n",
      "\n"
     ]
    }
   ],
   "source": [
    "value_df.printSchema()"
   ]
  },
  {
   "cell_type": "code",
   "execution_count": 8,
   "id": "eb1e0bdc",
   "metadata": {},
   "outputs": [],
   "source": [
    "explode_df = value_df.selectExpr(\"value.matchday\", \"value.teamId_1\", \"value.teamId_2\",\n",
    "                                 \"value.minute\", \n",
    "                                 \"value.goal_1\", \n",
    "                                 \"value.goal_2\", \n",
    "                                 \"value.poss_1\",\n",
    "                                 \"value.poss_2\",\n",
    "                                 \"value.pass_comp_1\",\n",
    "                                 \"value.pass_comp_2\",\n",
    "                                 \"value.date\",\n",
    "                                 \"value.timestamp\") \\\n",
    "                     .withColumn(\"timestamp\", to_timestamp(col(\"timestamp\"), \"yyyy-MM-dd HH:mm:ss\")) \\\n",
    "                     .withWatermark(\"timestamp\", \"90 minute\") # imaginemos que no hay descanso"
   ]
  },
  {
   "cell_type": "code",
   "execution_count": 9,
   "id": "0409c456",
   "metadata": {},
   "outputs": [],
   "source": [
    "res_df = explode_df.withWatermark(\"timestamp\", \"90 minute\") \\\n",
    "                 .groupBy(['matchday','teamId_1','teamId_2']) \\\n",
    "                 .agg(max('minute').alias('minute'),\n",
    "                      sum('goal_1').alias('goal_1'),\n",
    "                      sum('goal_2').alias('goal_2'),\n",
    "                      mean('poss_1').alias('avg_poss_1'),\n",
    "                      mean('poss_2').alias('avg_poss_2'),\n",
    "                      mean('pass_comp_1').alias('avg_pass_comp_1'),\n",
    "                      mean('pass_comp_2').alias('avg_pass_comp_2'))                 "
   ]
  },
  {
   "cell_type": "code",
   "execution_count": null,
   "id": "4a04919c",
   "metadata": {},
   "outputs": [],
   "source": [
    "#Se imprime los resultados en la consola\n",
    "window_query = res_df.writeStream \\\n",
    "        .format(\"console\") \\\n",
    "        .outputMode(\"complete\") \\\n",
    "        .option(\"checkpointLocation\", \"./checkpoint/tf\") \\\n",
    "        .trigger(processingTime=\"5 minute\") \\\n",
    "        .start()\n",
    "window_query.awaitTermination()"
   ]
  },
  {
   "cell_type": "code",
   "execution_count": null,
   "id": "294f0ff7",
   "metadata": {
    "id": "294f0ff7"
   },
   "outputs": [],
   "source": [
    "#proc_match_query = res_df.writeStream \\\n",
    "#        .format(\"json\") \\\n",
    "#        .queryName(\"Proc Matches\") \\\n",
    "#        .outputMode(\"update\") \\\n",
    "#        .option(\"path\", \"./output\") \\\n",
    "#        .option(\"checkpointLocation\", \"./checkpoints/checkpoint-stream-kafka\") \\\n",
    "#        .trigger(processingTime=\"1 minute\") \\\n",
    "#        .start()\n",
    "#invoice_writer_query.awaitTermination()"
   ]
  }
 ],
 "metadata": {
  "colab": {
   "provenance": []
  },
  "kernelspec": {
   "display_name": "Python 3 (ipykernel)",
   "language": "python",
   "name": "python3"
  },
  "language_info": {
   "codemirror_mode": {
    "name": "ipython",
    "version": 3
   },
   "file_extension": ".py",
   "mimetype": "text/x-python",
   "name": "python",
   "nbconvert_exporter": "python",
   "pygments_lexer": "ipython3",
   "version": "3.8.7"
  }
 },
 "nbformat": 4,
 "nbformat_minor": 5
}
